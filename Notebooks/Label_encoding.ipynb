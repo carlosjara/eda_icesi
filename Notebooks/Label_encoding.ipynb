{
  "nbformat": 4,
  "nbformat_minor": 0,
  "metadata": {
    "colab": {
      "provenance": []
    },
    "kernelspec": {
      "name": "python3",
      "display_name": "Python 3"
    },
    "language_info": {
      "name": "python"
    }
  },
  "cells": [
    {
      "cell_type": "code",
      "execution_count": 2,
      "metadata": {
        "id": "oGvX3ibBZz2u",
        "outputId": "8be76cb2-f597-440f-af6c-d93cda756d5b",
        "colab": {
          "base_uri": "https://localhost:8080/"
        }
      },
      "outputs": [
        {
          "output_type": "stream",
          "name": "stdout",
          "text": [
            "  Cedula   ciudad  edad\n",
            "0    101     Cali    25\n",
            "1    202     Cali    12\n",
            "2    303  Palmira    15\n",
            "3    404  Palmira    14\n",
            "4    504   Bogota    19\n",
            "5    606   Bogota    23\n",
            "6    709  Popayan    25\n",
            "7    510  Palmira    29\n"
          ]
        }
      ],
      "source": [
        "# based on: https://www.statology.org/label-encoding-in-python/\n",
        "\n",
        "# Label encoding permite convertir columnas categóricas en numéricas\n",
        "\n",
        "from sklearn.preprocessing import LabelEncoder\n",
        "import pandas as pd\n",
        "\n",
        "# Creamos una instancia de label encoder\n",
        "lab = LabelEncoder()\n",
        "\n",
        "# Creamos un dataframe de prueba  DataFrame\n",
        "df = pd.DataFrame({'Cedula': ['101', '202', '303', '404', '504', '606', '709', '510'],\n",
        "                   'ciudad': ['Cali', 'Cali', 'Palmira', 'Palmira', 'Bogota', 'Bogota', 'Popayan', 'Palmira'],\n",
        "                   'edad': [25, 12, 15, 14, 19, 23, 25, 29]})\n",
        "\n",
        "#view DataFrame\n",
        "print(df)\n",
        "\n",
        "\n"
      ]
    },
    {
      "cell_type": "code",
      "source": [
        "df['ciudad'] = lab.fit_transform(df['ciudad'])\n",
        "\n",
        "#view updated DataFrame\n",
        "print(df)\n"
      ],
      "metadata": {
        "id": "3JbIykrKZ3VF",
        "outputId": "abb535d9-1647-477d-c387-5d5a13c1b3c0",
        "colab": {
          "base_uri": "https://localhost:8080/"
        }
      },
      "execution_count": 3,
      "outputs": [
        {
          "output_type": "stream",
          "name": "stdout",
          "text": [
            "  Cedula  ciudad  edad\n",
            "0    101       1    25\n",
            "1    202       1    12\n",
            "2    303       2    15\n",
            "3    404       2    14\n",
            "4    504       0    19\n",
            "5    606       0    23\n",
            "6    709       3    25\n",
            "7    510       2    29\n"
          ]
        }
      ]
    },
    {
      "cell_type": "markdown",
      "source": [
        "* Bogota se convirtío en 0\n",
        "* Cali se convirtío en 1\n",
        "* Palmira se convirtío en 2\n",
        "* Popayán se convirtío en 3\n"
      ],
      "metadata": {
        "id": "QRrxuNe0aSYN"
      }
    },
    {
      "cell_type": "code",
      "source": [
        "lab.inverse_transform(df['ciudad'])\n",
        "\n"
      ],
      "metadata": {
        "id": "Qau8WtnhaMpk",
        "outputId": "04506080-34e3-4196-d504-3e180a9a781e",
        "colab": {
          "base_uri": "https://localhost:8080/"
        }
      },
      "execution_count": 4,
      "outputs": [
        {
          "output_type": "execute_result",
          "data": {
            "text/plain": [
              "array(['Cali', 'Cali', 'Palmira', 'Palmira', 'Bogota', 'Bogota',\n",
              "       'Popayan', 'Palmira'], dtype=object)"
            ]
          },
          "metadata": {},
          "execution_count": 4
        }
      ]
    },
    {
      "cell_type": "code",
      "source": [],
      "metadata": {
        "id": "VALya_UxdhYt"
      },
      "execution_count": null,
      "outputs": []
    }
  ]
}