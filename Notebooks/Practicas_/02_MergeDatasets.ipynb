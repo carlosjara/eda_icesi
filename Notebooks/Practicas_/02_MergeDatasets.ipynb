{
 "cells": [
  {
   "cell_type": "code",
   "execution_count": 1,
   "metadata": {
    "executionInfo": {
     "elapsed": 1404,
     "status": "ok",
     "timestamp": 1693695237232,
     "user": {
      "displayName": "Carlos Jaramillo",
      "userId": "00913586873578295952"
     },
     "user_tz": 300
    },
    "id": "pSYCrV_QGexO"
   },
   "outputs": [],
   "source": [
    "#Librerias para cargar al iniciar\n",
    "import seaborn as sns\n",
    "import numpy as np\n",
    "import pandas as pd\n",
    "import matplotlib.pyplot as plt"
   ]
  },
  {
   "cell_type": "code",
   "execution_count": 2,
   "metadata": {
    "executionInfo": {
     "elapsed": 3,
     "status": "ok",
     "timestamp": 1693695263043,
     "user": {
      "displayName": "Carlos Jaramillo",
      "userId": "00913586873578295952"
     },
     "user_tz": 300
    },
    "id": "yr1jYA_yGjco"
   },
   "outputs": [],
   "source": [
    "sns.set_theme(style=\"whitegrid\")"
   ]
  },
  {
   "cell_type": "code",
   "execution_count": 5,
   "metadata": {
    "colab": {
     "base_uri": "https://localhost:8080/"
    },
    "executionInfo": {
     "elapsed": 56269,
     "status": "ok",
     "timestamp": 1693695510427,
     "user": {
      "displayName": "Carlos Jaramillo",
      "userId": "00913586873578295952"
     },
     "user_tz": 300
    },
    "id": "giW9vYw5Gr-j",
    "outputId": "06832cf9-c295-4a1d-c0f2-26576dc6282c"
   },
   "outputs": [
    {
     "name": "stdout",
     "output_type": "stream",
     "text": [
      "Mounted at /gdrive\n"
     ]
    }
   ],
   "source": [
    "from google.colab import drive\n",
    "drive.mount('/gdrive')"
   ]
  },
  {
   "cell_type": "code",
   "execution_count": 6,
   "metadata": {
    "executionInfo": {
     "elapsed": 712,
     "status": "ok",
     "timestamp": 1693699346665,
     "user": {
      "displayName": "Carlos Jaramillo",
      "userId": "00913586873578295952"
     },
     "user_tz": 300
    },
    "id": "cxL29gdjHWCN"
   },
   "outputs": [],
   "source": [
    "# Opción GITHUB\n",
    "df1 = pd.read_csv('https://raw.githubusercontent.com/armandoordonez/eda_couse/main/data/Personas1.csv',na_values='?')              #Como el archivo contiene algunos caracteres ?, con este comando pandas los interpreta como nan (not a number).\n",
    "df2 = pd.read_csv('https://raw.githubusercontent.com/armandoordonez/eda_couse/main/data/Personas1.csv',na_values='?')\n"
   ]
  },
  {
   "cell_type": "code",
   "execution_count": null,
   "metadata": {
    "id": "oM181_xKWQzy"
   },
   "outputs": [],
   "source": []
  }
 ],
 "metadata": {
  "colab": {
   "authorship_tag": "ABX9TyNy6WI/4A3lGTyEvFkMczWJ",
   "provenance": []
  },
  "kernelspec": {
   "display_name": "Python 3 (ipykernel)",
   "language": "python",
   "name": "python3"
  },
  "language_info": {
   "codemirror_mode": {
    "name": "ipython",
    "version": 3
   },
   "file_extension": ".py",
   "mimetype": "text/x-python",
   "name": "python",
   "nbconvert_exporter": "python",
   "pygments_lexer": "ipython3",
   "version": "3.10.9"
  }
 },
 "nbformat": 4,
 "nbformat_minor": 1
}
