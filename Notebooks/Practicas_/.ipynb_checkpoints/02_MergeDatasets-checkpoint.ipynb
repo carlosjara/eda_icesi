{
 "cells": [
  {
   "cell_type": "code",
   "execution_count": 2,
   "metadata": {
    "executionInfo": {
     "elapsed": 1404,
     "status": "ok",
     "timestamp": 1693695237232,
     "user": {
      "displayName": "Carlos Jaramillo",
      "userId": "00913586873578295952"
     },
     "user_tz": 300
    },
    "id": "pSYCrV_QGexO"
   },
   "outputs": [],
   "source": [
    "#Librerias para cargar al iniciar\n",
    "import seaborn as sns\n",
    "import numpy as np\n",
    "import pandas as pd\n",
    "import matplotlib.pyplot as plt"
   ]
  },
  {
   "cell_type": "code",
   "execution_count": 3,
   "metadata": {
    "executionInfo": {
     "elapsed": 3,
     "status": "ok",
     "timestamp": 1693695263043,
     "user": {
      "displayName": "Carlos Jaramillo",
      "userId": "00913586873578295952"
     },
     "user_tz": 300
    },
    "id": "yr1jYA_yGjco"
   },
   "outputs": [],
   "source": [
    "sns.set_theme(style=\"whitegrid\")"
   ]
  },
  {
   "cell_type": "markdown",
   "metadata": {
    "colab": {
     "base_uri": "https://localhost:8080/"
    },
    "executionInfo": {
     "elapsed": 56269,
     "status": "ok",
     "timestamp": 1693695510427,
     "user": {
      "displayName": "Carlos Jaramillo",
      "userId": "00913586873578295952"
     },
     "user_tz": 300
    },
    "id": "giW9vYw5Gr-j",
    "outputId": "06832cf9-c295-4a1d-c0f2-26576dc6282c"
   },
   "source": [
    "### Cargar desde Google Drive\n",
    "\n",
    "Ver Codigo\n",
    "<!--\n",
    "from google.colab import drive\n",
    "drive.mount('/gdrive')\n",
    "\n",
    "# Opción Google drive\n",
    "# Usamos pandas para leer el csv en la ruta de nuestro drive\n",
    "df1 = pd.read_csv('/gdrive/MyDrive/Monitoria IA/Practicas/Merge/Personas1.csv',    #Se ingresa la ruta completa a la ubicación del archivo de interés. El MyDrive de la ruta es tu \"Mi Unidad\", desde ahí vas ingresando a cada carpeta que tengas hasta llegar a tu archivo.\n",
    "                na_values='?')              #Como el archivo contiene algunos caracteres ?, con este comando pandas los interpreta como nan (not a number).\n",
    "\n",
    "df2 = pd.read_csv('/gdrive/MyDrive/Monitoria IA/Practicas/Merge/Personas2.csv',\n",
    "                 na_values='?')\n",
    "-->"
   ]
  },
  {
   "cell_type": "markdown",
   "metadata": {
    "colab": {
     "base_uri": "https://localhost:8080/"
    },
    "executionInfo": {
     "elapsed": 56269,
     "status": "ok",
     "timestamp": 1693695510427,
     "user": {
      "displayName": "Carlos Jaramillo",
      "userId": "00913586873578295952"
     },
     "user_tz": 300
    },
    "id": "giW9vYw5Gr-j",
    "outputId": "06832cf9-c295-4a1d-c0f2-26576dc6282c"
   },
   "source": [
    "### Cargar desde GitHub\n",
    "\n",
    "Ver Codigo\n",
    "<!--\n",
    "# Opción GITHUB\n",
    "# Opción GITHUB\n",
    "df1 = pd.read_csv('https://raw.githubusercontent.com/armandoordonez/eda_couse/main/data/Personas1.csv',na_values='?')    \n",
    "df2 = pd.read_csv('https://raw.githubusercontent.com/carlosjara/eda_icesi/main/Notebooks/Practicas_/data/Personas2.csv',na_values='?')\n",
    "\n",
    "     \n",
    "-->"
   ]
  },
  {
   "cell_type": "markdown",
   "metadata": {
    "colab": {
     "base_uri": "https://localhost:8080/"
    },
    "executionInfo": {
     "elapsed": 56269,
     "status": "ok",
     "timestamp": 1693695510427,
     "user": {
      "displayName": "Carlos Jaramillo",
      "userId": "00913586873578295952"
     },
     "user_tz": 300
    },
    "id": "giW9vYw5Gr-j",
    "outputId": "06832cf9-c295-4a1d-c0f2-26576dc6282c"
   },
   "source": [
    "### Cargar a Colab y usar en GoogleColab\n",
    "\n",
    "Ver Codigo\n",
    "<!--\n",
    "Para subir el archivo a colab, damos click en el icono de carpeta que está en el menú del lado izquierdo y luego presionamos el icono del archivo con una flecha hacia arriba. Esto nos abrirá unan ventana con el explorador de archivos, donde podremos importar el dataset. Finalmente, solo se importa usando el nombre del csv y definiendo cuales valores interpretará pandas como nan.\n",
    "\n",
    "\n",
    "#df1 = pd.read_csv('./Personas1.csv',na_values='?')\n",
    "#df2 = pd.read_csv('./Personas2.csv', na_values='?')\n",
    "-->"
   ]
  },
  {
   "cell_type": "code",
   "execution_count": 6,
   "metadata": {
    "executionInfo": {
     "elapsed": 712,
     "status": "ok",
     "timestamp": 1693699346665,
     "user": {
      "displayName": "Carlos Jaramillo",
      "userId": "00913586873578295952"
     },
     "user_tz": 300
    },
    "id": "cxL29gdjHWCN"
   },
   "outputs": [],
   "source": [
    "# Opción GITHUB\n",
    "df1 = pd.read_csv('https://raw.githubusercontent.com/armandoordonez/eda_couse/main/data/Personas1.csv',na_values='?')              #Como el archivo contiene algunos caracteres ?, con este comando pandas los interpreta como nan (not a number).\n",
    "df2 = pd.read_csv('https://raw.githubusercontent.com/carlosjara/eda_icesi/main/Notebooks/Practicas_/data/Personas2.csv',na_values='?')"
   ]
  },
  {
   "cell_type": "code",
   "execution_count": 7,
   "metadata": {
    "id": "oM181_xKWQzy"
   },
   "outputs": [
    {
     "data": {
      "text/html": [
       "<div>\n",
       "<style scoped>\n",
       "    .dataframe tbody tr th:only-of-type {\n",
       "        vertical-align: middle;\n",
       "    }\n",
       "\n",
       "    .dataframe tbody tr th {\n",
       "        vertical-align: top;\n",
       "    }\n",
       "\n",
       "    .dataframe thead th {\n",
       "        text-align: right;\n",
       "    }\n",
       "</style>\n",
       "<table border=\"1\" class=\"dataframe\">\n",
       "  <thead>\n",
       "    <tr style=\"text-align: right;\">\n",
       "      <th></th>\n",
       "      <th>first_name</th>\n",
       "      <th>last_name</th>\n",
       "      <th>cc</th>\n",
       "    </tr>\n",
       "  </thead>\n",
       "  <tbody>\n",
       "    <tr>\n",
       "      <th>0</th>\n",
       "      <td>Berget</td>\n",
       "      <td>Proughten</td>\n",
       "      <td>1495</td>\n",
       "    </tr>\n",
       "    <tr>\n",
       "      <th>1</th>\n",
       "      <td>Scotti</td>\n",
       "      <td>Yegorovnin</td>\n",
       "      <td>311</td>\n",
       "    </tr>\n",
       "    <tr>\n",
       "      <th>2</th>\n",
       "      <td>Clayton</td>\n",
       "      <td>Reide</td>\n",
       "      <td>914</td>\n",
       "    </tr>\n",
       "    <tr>\n",
       "      <th>3</th>\n",
       "      <td>Toddie</td>\n",
       "      <td>Haddick</td>\n",
       "      <td>671</td>\n",
       "    </tr>\n",
       "    <tr>\n",
       "      <th>4</th>\n",
       "      <td>Brynna</td>\n",
       "      <td>Ferrucci</td>\n",
       "      <td>692</td>\n",
       "    </tr>\n",
       "  </tbody>\n",
       "</table>\n",
       "</div>"
      ],
      "text/plain": [
       "  first_name   last_name    cc\n",
       "0     Berget   Proughten  1495\n",
       "1     Scotti  Yegorovnin   311\n",
       "2    Clayton       Reide   914\n",
       "3     Toddie     Haddick   671\n",
       "4     Brynna    Ferrucci   692"
      ]
     },
     "execution_count": 7,
     "metadata": {},
     "output_type": "execute_result"
    }
   ],
   "source": [
    "df1.head()"
   ]
  },
  {
   "cell_type": "code",
   "execution_count": 8,
   "metadata": {},
   "outputs": [
    {
     "data": {
      "text/html": [
       "<div>\n",
       "<style scoped>\n",
       "    .dataframe tbody tr th:only-of-type {\n",
       "        vertical-align: middle;\n",
       "    }\n",
       "\n",
       "    .dataframe tbody tr th {\n",
       "        vertical-align: top;\n",
       "    }\n",
       "\n",
       "    .dataframe thead th {\n",
       "        text-align: right;\n",
       "    }\n",
       "</style>\n",
       "<table border=\"1\" class=\"dataframe\">\n",
       "  <thead>\n",
       "    <tr style=\"text-align: right;\">\n",
       "      <th></th>\n",
       "      <th>salary</th>\n",
       "      <th>city</th>\n",
       "      <th>cc</th>\n",
       "    </tr>\n",
       "  </thead>\n",
       "  <tbody>\n",
       "    <tr>\n",
       "      <th>0</th>\n",
       "      <td>$5432.91</td>\n",
       "      <td>Sabon Gari-Nangere</td>\n",
       "      <td>611</td>\n",
       "    </tr>\n",
       "    <tr>\n",
       "      <th>1</th>\n",
       "      <td>$6581.31</td>\n",
       "      <td>San Rafael Abajo</td>\n",
       "      <td>561</td>\n",
       "    </tr>\n",
       "    <tr>\n",
       "      <th>2</th>\n",
       "      <td>$14405.46</td>\n",
       "      <td>Khvānsār</td>\n",
       "      <td>13</td>\n",
       "    </tr>\n",
       "    <tr>\n",
       "      <th>3</th>\n",
       "      <td>$27742.78</td>\n",
       "      <td>Cemara</td>\n",
       "      <td>1191</td>\n",
       "    </tr>\n",
       "    <tr>\n",
       "      <th>4</th>\n",
       "      <td>$88920.27</td>\n",
       "      <td>Diên Khánh</td>\n",
       "      <td>943</td>\n",
       "    </tr>\n",
       "  </tbody>\n",
       "</table>\n",
       "</div>"
      ],
      "text/plain": [
       "      salary                city    cc\n",
       "0   $5432.91  Sabon Gari-Nangere   611\n",
       "1   $6581.31    San Rafael Abajo   561\n",
       "2  $14405.46            Khvānsār    13\n",
       "3  $27742.78              Cemara  1191\n",
       "4  $88920.27          Diên Khánh   943"
      ]
     },
     "execution_count": 8,
     "metadata": {},
     "output_type": "execute_result"
    }
   ],
   "source": [
    "df2.head()"
   ]
  },
  {
   "cell_type": "code",
   "execution_count": 9,
   "metadata": {},
   "outputs": [],
   "source": [
    "merged_df = pd.merge(df1,df2, on='cc')"
   ]
  },
  {
   "cell_type": "code",
   "execution_count": 10,
   "metadata": {},
   "outputs": [
    {
     "data": {
      "text/plain": [
       "(719, 5)"
      ]
     },
     "execution_count": 10,
     "metadata": {},
     "output_type": "execute_result"
    }
   ],
   "source": [
    "merged_df.shape"
   ]
  },
  {
   "cell_type": "code",
   "execution_count": 11,
   "metadata": {},
   "outputs": [
    {
     "data": {
      "text/html": [
       "<div>\n",
       "<style scoped>\n",
       "    .dataframe tbody tr th:only-of-type {\n",
       "        vertical-align: middle;\n",
       "    }\n",
       "\n",
       "    .dataframe tbody tr th {\n",
       "        vertical-align: top;\n",
       "    }\n",
       "\n",
       "    .dataframe thead th {\n",
       "        text-align: right;\n",
       "    }\n",
       "</style>\n",
       "<table border=\"1\" class=\"dataframe\">\n",
       "  <thead>\n",
       "    <tr style=\"text-align: right;\">\n",
       "      <th></th>\n",
       "      <th>first_name</th>\n",
       "      <th>last_name</th>\n",
       "      <th>cc</th>\n",
       "      <th>salary</th>\n",
       "      <th>city</th>\n",
       "    </tr>\n",
       "  </thead>\n",
       "  <tbody>\n",
       "    <tr>\n",
       "      <th>0</th>\n",
       "      <td>Clayton</td>\n",
       "      <td>Reide</td>\n",
       "      <td>914</td>\n",
       "      <td>$79239.05</td>\n",
       "      <td>Wierzbica</td>\n",
       "    </tr>\n",
       "    <tr>\n",
       "      <th>1</th>\n",
       "      <td>Toddie</td>\n",
       "      <td>Haddick</td>\n",
       "      <td>671</td>\n",
       "      <td>$75752.12</td>\n",
       "      <td>Heping</td>\n",
       "    </tr>\n",
       "    <tr>\n",
       "      <th>2</th>\n",
       "      <td>Brynna</td>\n",
       "      <td>Ferrucci</td>\n",
       "      <td>692</td>\n",
       "      <td>$53230.11</td>\n",
       "      <td>Thorold</td>\n",
       "    </tr>\n",
       "    <tr>\n",
       "      <th>3</th>\n",
       "      <td>Jarred</td>\n",
       "      <td>Spore</td>\n",
       "      <td>692</td>\n",
       "      <td>$53230.11</td>\n",
       "      <td>Thorold</td>\n",
       "    </tr>\n",
       "    <tr>\n",
       "      <th>4</th>\n",
       "      <td>Atlanta</td>\n",
       "      <td>Farnill</td>\n",
       "      <td>1207</td>\n",
       "      <td>$2875.12</td>\n",
       "      <td>Duwakkandung</td>\n",
       "    </tr>\n",
       "  </tbody>\n",
       "</table>\n",
       "</div>"
      ],
      "text/plain": [
       "  first_name last_name    cc     salary          city\n",
       "0    Clayton     Reide   914  $79239.05     Wierzbica\n",
       "1     Toddie   Haddick   671  $75752.12        Heping\n",
       "2     Brynna  Ferrucci   692  $53230.11       Thorold\n",
       "3     Jarred     Spore   692  $53230.11       Thorold\n",
       "4    Atlanta   Farnill  1207   $2875.12  Duwakkandung"
      ]
     },
     "execution_count": 11,
     "metadata": {},
     "output_type": "execute_result"
    }
   ],
   "source": [
    "merged_df.head()"
   ]
  },
  {
   "cell_type": "markdown",
   "metadata": {},
   "source": [
    "##### Tipos de Merge\n",
    "\n",
    "Los principales tipos de merge se pueden separar en 3:\n",
    "\n",
    "Inner: Es el tipo de merge por defecto, solo toma los datos que coincidan en su columna de referencia para ambos dataset. (En el ejemplo fue la cc, si en alguno de los dos dataset no estaba la misma cc, no se agrega)\n",
    "\n",
    "Left: Agrega los datos que estén en ambos dataset, pero también agrega los datos del dataset que pongamos primero en nuestra función merge. (En el ejemplo, el df1)\n",
    "\n",
    "Right: Agrega los datos que estén en ambos dataset, pero también agrega los datos del dataset que pongamos primero en nuestra función merge. (En el ejemplo, el df1)\n",
    "Para cambiar el tipo de Merge debemos añadir una instrucción a la función llamada \"how\":\n",
    "\n",
    "\n",
    "```\n",
    "pd.merge(df1,df2,on='cc',how=\"left\")\n",
    "```\n",
    "\n",
    "tambien es posible hacer merge con mas de una columna\n",
    "\n",
    "```\n",
    " pd.merge(df1,df2,on=['cc','city'])\n",
    "```"
   ]
  },
  {
   "cell_type": "code",
   "execution_count": null,
   "metadata": {},
   "outputs": [],
   "source": []
  }
 ],
 "metadata": {
  "colab": {
   "authorship_tag": "ABX9TyNy6WI/4A3lGTyEvFkMczWJ",
   "provenance": []
  },
  "kernelspec": {
   "display_name": "Python 3 (ipykernel)",
   "language": "python",
   "name": "python3"
  },
  "language_info": {
   "codemirror_mode": {
    "name": "ipython",
    "version": 3
   },
   "file_extension": ".py",
   "mimetype": "text/x-python",
   "name": "python",
   "nbconvert_exporter": "python",
   "pygments_lexer": "ipython3",
   "version": "3.10.9"
  }
 },
 "nbformat": 4,
 "nbformat_minor": 1
}
