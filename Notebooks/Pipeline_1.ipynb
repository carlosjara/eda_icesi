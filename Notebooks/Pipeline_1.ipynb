{
  "nbformat": 4,
  "nbformat_minor": 0,
  "metadata": {
    "colab": {
      "provenance": []
    },
    "kernelspec": {
      "name": "python3",
      "display_name": "Python 3"
    },
    "language_info": {
      "name": "python"
    }
  },
  "cells": [
    {
      "cell_type": "code",
      "execution_count": 1,
      "metadata": {
        "colab": {
          "base_uri": "https://localhost:8080/"
        },
        "id": "14C24tVVh4Xk",
        "outputId": "24b74a7a-5a6e-4ea9-b9ae-dea6e28ecaa2"
      },
      "outputs": [
        {
          "output_type": "stream",
          "name": "stdout",
          "text": [
            "[Pipeline] ............... (step 1 of 3) Processing pca, total=   0.0s\n",
            "[Pipeline] ............... (step 2 of 3) Processing std, total=   0.0s\n",
            "[Pipeline] ..... (step 3 of 3) Processing decision_tree, total=   0.0s\n",
            "0.9066666666666666\n"
          ]
        }
      ],
      "source": [
        "from sklearn import datasets\n",
        "from sklearn.model_selection import train_test_split\n",
        "from sklearn.preprocessing import StandardScaler\n",
        "from sklearn.decomposition import PCA\n",
        "from sklearn.tree import DecisionTreeClassifier\n",
        "\n",
        "# scoring data\n",
        "from sklearn.metrics import accuracy_score\n",
        "\n",
        "# dataset is imported from inbuilt sklearn datasets\n",
        "iris = datasets.load_iris()\n",
        "X = iris.data\n",
        "y = iris.target\n",
        "\n",
        "#The data spliting is executed here\n",
        "X_train, X_test, y_train, y_test = train_test_split(X, y, test_size = 0.50)\n",
        "\n",
        "# importing pipes for making the Pipe flow\n",
        "from sklearn.pipeline import Pipeline\n",
        "# The sequence of pipe flow is :\n",
        "# Data gets scaled >> Classification of decission tree\n",
        "pipe = Pipeline([('pca', PCA(n_components = 2)),('std', StandardScaler()), ('decision_tree', DecisionTreeClassifier())], verbose = True)\n",
        "\n",
        "# fitting the data in the pipeline\n",
        "pipe.fit(X_train, y_train)\n",
        "\n",
        "\n",
        "print(accuracy_score(y_test, pipe.predict(X_test)))"
      ]
    },
    {
      "cell_type": "code",
      "source": [
        "pipe = Pipeline([('pca', PCA(n_components = 2)), ('decision_tree', DecisionTreeClassifier())], verbose = True)\n",
        "\n",
        "# fitting the data in the pipeline\n",
        "pipe.fit(X_train, y_train)\n",
        "\n",
        "# scoring data\n",
        "from sklearn.metrics import accuracy_score\n",
        "print(accuracy_score(y_test, pipe.predict(X_test)))"
      ],
      "metadata": {
        "colab": {
          "base_uri": "https://localhost:8080/"
        },
        "id": "ihqTw6g8iPtg",
        "outputId": "87cf453f-a67f-4d70-e474-d5a88528593d"
      },
      "execution_count": 2,
      "outputs": [
        {
          "output_type": "stream",
          "name": "stdout",
          "text": [
            "[Pipeline] ............... (step 1 of 2) Processing pca, total=   0.0s\n",
            "[Pipeline] ..... (step 2 of 2) Processing decision_tree, total=   0.0s\n",
            "0.9333333333333333\n"
          ]
        }
      ]
    },
    {
      "cell_type": "code",
      "source": [
        "pipe = Pipeline([('decision_tree', DecisionTreeClassifier())], verbose = True)\n",
        "\n",
        "# fitting the data in the pipeline\n",
        "pipe.fit(X_train, y_train)\n",
        "\n",
        "# scoring data\n",
        "from sklearn.metrics import accuracy_score\n",
        "print(accuracy_score(y_test, pipe.predict(X_test)))"
      ],
      "metadata": {
        "colab": {
          "base_uri": "https://localhost:8080/"
        },
        "id": "apzqj_3DiX_5",
        "outputId": "57c3ae4d-5c6c-405e-9834-fbe5596f1fc4"
      },
      "execution_count": 3,
      "outputs": [
        {
          "output_type": "stream",
          "name": "stdout",
          "text": [
            "[Pipeline] ..... (step 1 of 1) Processing decision_tree, total=   0.0s\n",
            "0.9733333333333334\n"
          ]
        }
      ]
    },
    {
      "cell_type": "code",
      "source": [],
      "metadata": {
        "id": "_aHFqlzmiede"
      },
      "execution_count": null,
      "outputs": []
    }
  ]
}