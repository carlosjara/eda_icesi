{
 "cells": [
  {
   "cell_type": "markdown",
   "id": "7e4de601",
   "metadata": {},
   "source": [
    "<a href=\"https://colab.research.google.com/github/carlosjara/eda_icesi/blob/main/Notebooks/Taller_Clase_0209.ipynb\" target=\"_parent\"><img src=\"https://colab.research.google.com/assets/colab-badge.svg\" alt=\"Open In Colab\"/></a>"
   ]
  },
  {
   "cell_type": "code",
   "execution_count": 3,
   "id": "436e7393",
   "metadata": {},
   "outputs": [
    {
     "name": "stdout",
     "output_type": "stream",
     "text": [
      "Collecting altair\n",
      "  Downloading altair-5.1.1-py3-none-any.whl (520 kB)\n",
      "     -------------------------------------- 520.6/520.6 kB 1.6 MB/s eta 0:00:00\n",
      "Requirement already satisfied: jsonschema>=3.0 in c:\\users\\carlos\\anaconda3\\lib\\site-packages (from altair) (4.17.3)\n",
      "Requirement already satisfied: packaging in c:\\users\\carlos\\anaconda3\\lib\\site-packages (from altair) (22.0)\n",
      "Requirement already satisfied: toolz in c:\\users\\carlos\\anaconda3\\lib\\site-packages (from altair) (0.12.0)\n",
      "Requirement already satisfied: numpy in c:\\users\\carlos\\anaconda3\\lib\\site-packages (from altair) (1.23.5)\n",
      "Requirement already satisfied: pandas>=0.25 in c:\\users\\carlos\\anaconda3\\lib\\site-packages (from altair) (1.5.3)\n",
      "Requirement already satisfied: jinja2 in c:\\users\\carlos\\anaconda3\\lib\\site-packages (from altair) (3.1.2)\n",
      "Requirement already satisfied: typing-extensions>=4.0.1 in c:\\users\\carlos\\anaconda3\\lib\\site-packages (from altair) (4.4.0)\n",
      "Requirement already satisfied: pyrsistent!=0.17.0,!=0.17.1,!=0.17.2,>=0.14.0 in c:\\users\\carlos\\anaconda3\\lib\\site-packages (from jsonschema>=3.0->altair) (0.18.0)\n",
      "Requirement already satisfied: attrs>=17.4.0 in c:\\users\\carlos\\anaconda3\\lib\\site-packages (from jsonschema>=3.0->altair) (22.1.0)\n",
      "Requirement already satisfied: python-dateutil>=2.8.1 in c:\\users\\carlos\\anaconda3\\lib\\site-packages (from pandas>=0.25->altair) (2.8.2)\n",
      "Requirement already satisfied: pytz>=2020.1 in c:\\users\\carlos\\anaconda3\\lib\\site-packages (from pandas>=0.25->altair) (2022.7)\n",
      "Requirement already satisfied: MarkupSafe>=2.0 in c:\\users\\carlos\\anaconda3\\lib\\site-packages (from jinja2->altair) (2.1.1)\n",
      "Requirement already satisfied: six>=1.5 in c:\\users\\carlos\\anaconda3\\lib\\site-packages (from python-dateutil>=2.8.1->pandas>=0.25->altair) (1.16.0)\n",
      "Installing collected packages: altair\n",
      "Successfully installed altair-5.1.1\n"
     ]
    }
   ],
   "source": [
    "!pip install altair"
   ]
  },
  {
   "cell_type": "code",
   "execution_count": 4,
   "id": "56002ba3",
   "metadata": {},
   "outputs": [],
   "source": [
    "import numpy as np\n",
    "import pandas as pd\n",
    "import warnings\n",
    "warnings.filterwarnings('ignore')\n",
    "from sklearn.metrics import mean_squared_error\n",
    "\n",
    "from sklearn.preprocessing import StandardScaler, PowerTransformer\n",
    "from sklearn.compose import TransformedTargetRegressor\n",
    "from sklearn.pipeline import FeatureUnion, Pipeline, make_pipeline\n",
    "from sklearn.base import BaseEstimator, TransformerMixin\n",
    "\n",
    "from sklearn.linear_model import LinearRegression\n",
    "\n",
    "import pandas as pd\n",
    "\n",
    "##Librerias de Graficas\n",
    "import matplotlib.pyplot as plt\n",
    "import altair as alt\n",
    "import seaborn as sns"
   ]
  },
  {
   "cell_type": "code",
   "execution_count": 5,
   "id": "617e82fd",
   "metadata": {},
   "outputs": [
    {
     "name": "stdout",
     "output_type": "stream",
     "text": [
      "   X1  X2   y\n",
      "0   1  16  17\n",
      "1   4  36  40\n",
      "2   1  16  17\n",
      "3   2   9  11\n",
      "4   3  36  39\n",
      "5   2  49  51\n",
      "6   4  25  29\n",
      "7   5  36  41\n"
     ]
    }
   ],
   "source": [
    "import pandas as pd\n",
    "import math\n",
    "\n",
    "# Original DataFrame\n",
    "df = pd.DataFrame(columns=['X1', 'X2'], \n",
    "                  data=[\n",
    "                      [1, 16],\n",
    "                      [4, 36],\n",
    "                      [1, 16],\n",
    "                      [2, 9],\n",
    "                      [3, 36],\n",
    "                      [2, 49],\n",
    "                      [4, 25],\n",
    "                      [5, 36]\n",
    "                  ])\n",
    "\n",
    "def calculate_new_value(row):\n",
    "    x1 = row['X1']\n",
    "    x2 = row['X2']\n",
    "    \n",
    "    # Your formula here\n",
    "    new_value = x1+x2\n",
    "    return new_value\n",
    "\n",
    "# Apply the custom function to create a new column in the DataFrame\n",
    "df['y'] = df.apply(calculate_new_value, axis=1)\n",
    "\n",
    "# Display the updated DataFrame\n",
    "print(df)\n"
   ]
  },
  {
   "cell_type": "code",
   "execution_count": 6,
   "id": "5975f626",
   "metadata": {},
   "outputs": [
    {
     "data": {
      "text/html": [
       "\n",
       "<style>\n",
       "  #altair-viz-6960d9d7af9d40d88891204e4a73e6ac.vega-embed {\n",
       "    width: 100%;\n",
       "    display: flex;\n",
       "  }\n",
       "\n",
       "  #altair-viz-6960d9d7af9d40d88891204e4a73e6ac.vega-embed details,\n",
       "  #altair-viz-6960d9d7af9d40d88891204e4a73e6ac.vega-embed details summary {\n",
       "    position: relative;\n",
       "  }\n",
       "</style>\n",
       "<div id=\"altair-viz-6960d9d7af9d40d88891204e4a73e6ac\"></div>\n",
       "<script type=\"text/javascript\">\n",
       "  var VEGA_DEBUG = (typeof VEGA_DEBUG == \"undefined\") ? {} : VEGA_DEBUG;\n",
       "  (function(spec, embedOpt){\n",
       "    let outputDiv = document.currentScript.previousElementSibling;\n",
       "    if (outputDiv.id !== \"altair-viz-6960d9d7af9d40d88891204e4a73e6ac\") {\n",
       "      outputDiv = document.getElementById(\"altair-viz-6960d9d7af9d40d88891204e4a73e6ac\");\n",
       "    }\n",
       "    const paths = {\n",
       "      \"vega\": \"https://cdn.jsdelivr.net/npm/vega@5?noext\",\n",
       "      \"vega-lib\": \"https://cdn.jsdelivr.net/npm/vega-lib?noext\",\n",
       "      \"vega-lite\": \"https://cdn.jsdelivr.net/npm/vega-lite@5.14.1?noext\",\n",
       "      \"vega-embed\": \"https://cdn.jsdelivr.net/npm/vega-embed@6?noext\",\n",
       "    };\n",
       "\n",
       "    function maybeLoadScript(lib, version) {\n",
       "      var key = `${lib.replace(\"-\", \"\")}_version`;\n",
       "      return (VEGA_DEBUG[key] == version) ?\n",
       "        Promise.resolve(paths[lib]) :\n",
       "        new Promise(function(resolve, reject) {\n",
       "          var s = document.createElement('script');\n",
       "          document.getElementsByTagName(\"head\")[0].appendChild(s);\n",
       "          s.async = true;\n",
       "          s.onload = () => {\n",
       "            VEGA_DEBUG[key] = version;\n",
       "            return resolve(paths[lib]);\n",
       "          };\n",
       "          s.onerror = () => reject(`Error loading script: ${paths[lib]}`);\n",
       "          s.src = paths[lib];\n",
       "        });\n",
       "    }\n",
       "\n",
       "    function showError(err) {\n",
       "      outputDiv.innerHTML = `<div class=\"error\" style=\"color:red;\">${err}</div>`;\n",
       "      throw err;\n",
       "    }\n",
       "\n",
       "    function displayChart(vegaEmbed) {\n",
       "      vegaEmbed(outputDiv, spec, embedOpt)\n",
       "        .catch(err => showError(`Javascript Error: ${err.message}<br>This usually means there's a typo in your chart specification. See the javascript console for the full traceback.`));\n",
       "    }\n",
       "\n",
       "    if(typeof define === \"function\" && define.amd) {\n",
       "      requirejs.config({paths});\n",
       "      require([\"vega-embed\"], displayChart, err => showError(`Error loading script: ${err.message}`));\n",
       "    } else {\n",
       "      maybeLoadScript(\"vega\", \"5\")\n",
       "        .then(() => maybeLoadScript(\"vega-lite\", \"5.14.1\"))\n",
       "        .then(() => maybeLoadScript(\"vega-embed\", \"6\"))\n",
       "        .catch(showError)\n",
       "        .then(() => displayChart(vegaEmbed));\n",
       "    }\n",
       "  })({\"config\": {\"view\": {\"continuousWidth\": 300, \"continuousHeight\": 300}}, \"data\": {\"name\": \"data-a79612298b6e4828cc6fbefe624d3df6\"}, \"mark\": {\"type\": \"circle\"}, \"encoding\": {\"x\": {\"field\": \"X1\", \"type\": \"quantitative\"}, \"y\": {\"field\": \"y\", \"type\": \"quantitative\"}}, \"$schema\": \"https://vega.github.io/schema/vega-lite/v5.14.1.json\", \"datasets\": {\"data-a79612298b6e4828cc6fbefe624d3df6\": [{\"X1\": 1, \"X2\": 16, \"y\": 17}, {\"X1\": 4, \"X2\": 36, \"y\": 40}, {\"X1\": 1, \"X2\": 16, \"y\": 17}, {\"X1\": 2, \"X2\": 9, \"y\": 11}, {\"X1\": 3, \"X2\": 36, \"y\": 39}, {\"X1\": 2, \"X2\": 49, \"y\": 51}, {\"X1\": 4, \"X2\": 25, \"y\": 29}, {\"X1\": 5, \"X2\": 36, \"y\": 41}]}}, {\"mode\": \"vega-lite\"});\n",
       "</script>"
      ],
      "text/plain": [
       "alt.Chart(...)"
      ]
     },
     "execution_count": 6,
     "metadata": {},
     "output_type": "execute_result"
    }
   ],
   "source": [
    "base = alt.Chart(df)\n",
    "chart = base.mark_circle()\n",
    "chart.encode(x='X1', y='y')"
   ]
  },
  {
   "cell_type": "code",
   "execution_count": 138,
   "id": "daadfc68",
   "metadata": {},
   "outputs": [],
   "source": [
    "# Separamos en train y test\n",
    "\n",
    "train = df.iloc[:6]\n",
    "test = df.iloc[6:]\n",
    "\n",
    "train_X = train.drop('y', axis=1)\n",
    "train_y = train.y\n",
    "\n",
    "test_X = test.drop('y', axis=1)\n",
    "test_y = test.y"
   ]
  },
  {
   "cell_type": "code",
   "execution_count": 139,
   "id": "7884fade",
   "metadata": {},
   "outputs": [
    {
     "data": {
      "text/html": [
       "<div>\n",
       "<style scoped>\n",
       "    .dataframe tbody tr th:only-of-type {\n",
       "        vertical-align: middle;\n",
       "    }\n",
       "\n",
       "    .dataframe tbody tr th {\n",
       "        vertical-align: top;\n",
       "    }\n",
       "\n",
       "    .dataframe thead th {\n",
       "        text-align: right;\n",
       "    }\n",
       "</style>\n",
       "<table border=\"1\" class=\"dataframe\">\n",
       "  <thead>\n",
       "    <tr style=\"text-align: right;\">\n",
       "      <th></th>\n",
       "      <th>X1</th>\n",
       "      <th>X2</th>\n",
       "      <th>y</th>\n",
       "    </tr>\n",
       "  </thead>\n",
       "  <tbody>\n",
       "    <tr>\n",
       "      <th>6</th>\n",
       "      <td>4</td>\n",
       "      <td>25</td>\n",
       "      <td>29</td>\n",
       "    </tr>\n",
       "    <tr>\n",
       "      <th>7</th>\n",
       "      <td>5</td>\n",
       "      <td>36</td>\n",
       "      <td>41</td>\n",
       "    </tr>\n",
       "  </tbody>\n",
       "</table>\n",
       "</div>"
      ],
      "text/plain": [
       "   X1  X2   y\n",
       "6   4  25  29\n",
       "7   5  36  41"
      ]
     },
     "execution_count": 139,
     "metadata": {},
     "output_type": "execute_result"
    }
   ],
   "source": [
    "test"
   ]
  },
  {
   "cell_type": "code",
   "execution_count": 140,
   "id": "732c6984",
   "metadata": {},
   "outputs": [
    {
     "name": "stdout",
     "output_type": "stream",
     "text": [
      "\n",
      "[29. 41.]\n"
     ]
    }
   ],
   "source": [
    "m1 = LinearRegression()\n",
    "fit1 = m1.fit(train_X, train_y)\n",
    "preds = fit1.predict(test_X)\n",
    "print(f\"\\n{preds}\")"
   ]
  },
  {
   "cell_type": "code",
   "execution_count": 141,
   "id": "1c50afd0",
   "metadata": {},
   "outputs": [
    {
     "name": "stdout",
     "output_type": "stream",
     "text": [
      "   X1  X2   y\n",
      "6   4  25  29\n",
      "7   5  36  41\n",
      "\n",
      "[29. 41.]\n",
      "RMSE: 2.5121479338940403e-15\n",
      "\n"
     ]
    }
   ],
   "source": [
    "\n",
    "train_X.X2 = train_X.X2-train_X.X1\n",
    "\n",
    "test_X.X2 = test_X.X2 -test_X.X1\n",
    "\n",
    "print(test)\n",
    "\n",
    "m2 = LinearRegression()\n",
    "\n",
    "fit2 = m2.fit(train_X, train_y)\n",
    "\n",
    "preds = fit2.predict(test_X)\n",
    "\n",
    "print(f\"\\n{preds}\")\n",
    "\n",
    "print(f\"RMSE: {np.sqrt(mean_squared_error(test_y, preds))}\\n\")"
   ]
  },
  {
   "cell_type": "code",
   "execution_count": 142,
   "id": "77b7ec96",
   "metadata": {},
   "outputs": [],
   "source": [
    "train = df.iloc[:6]\n",
    "test = df.iloc[6:]\n",
    "\n",
    "train_X = train.drop('y', axis=1)\n",
    "train_y = train.y\n",
    "\n",
    "test_X = test.drop('y', axis=1)\n",
    "test_y = test.y"
   ]
  },
  {
   "cell_type": "code",
   "execution_count": 143,
   "id": "25be2f54",
   "metadata": {},
   "outputs": [],
   "source": [
    "class ExperimentalTransformer(BaseEstimator, TransformerMixin):\n",
    "  def __init__(self):\n",
    "    print('\\n>>>>>>>init() called.\\n')\n",
    "\n",
    "  def fit(self, X, y = None):\n",
    "    print('\\n>>>>>>>fit() called.\\n')\n",
    "    return self\n",
    "\n",
    "  def transform(self, X, y = None):\n",
    "    print('\\n>>>>>>>transform() called.\\n')\n",
    "    X_ = X.copy() # creamos una copia para evitar cambios en el conjunto de datos original\n",
    "    X_.X2 = X_.X2-X_.X1\n",
    "    return X_"
   ]
  },
  {
   "cell_type": "code",
   "execution_count": 144,
   "id": "1d7aabab",
   "metadata": {},
   "outputs": [
    {
     "name": "stdout",
     "output_type": "stream",
     "text": [
      "create pipeline 1\n",
      "fit pipeline 1\n",
      "predict via pipeline 1\n",
      "\n",
      "[29. 41.]\n",
      "RMSE: 5.617333549722722e-15\n",
      "\n"
     ]
    }
   ],
   "source": [
    "\n",
    "print(\"create pipeline 1\")\n",
    "pipe1 = Pipeline(steps=[\n",
    "                       ('linear_model', LinearRegression())\n",
    "])\n",
    "\n",
    "print(\"fit pipeline 1\")\n",
    "pipe1.fit(train_X, train_y)\n",
    "\n",
    "print(\"predict via pipeline 1\")\n",
    "preds1 = pipe1.predict(test_X)\n",
    "\n",
    "print(f\"\\n{preds1}\") \n",
    "print(f\"RMSE: {np.sqrt(mean_squared_error(test_y, preds1))}\\n\")"
   ]
  },
  {
   "cell_type": "code",
   "execution_count": 145,
   "id": "72c8adaa",
   "metadata": {},
   "outputs": [
    {
     "name": "stdout",
     "output_type": "stream",
     "text": [
      "create pipeline 2\n",
      "\n",
      ">>>>>>>init() called.\n",
      "\n",
      "fit pipeline 2\n",
      "\n",
      ">>>>>>>fit() called.\n",
      "\n",
      "\n",
      ">>>>>>>transform() called.\n",
      "\n",
      "predict via pipeline 2\n",
      "\n",
      ">>>>>>>transform() called.\n",
      "\n",
      "\n",
      "[29. 41.]\n",
      "RMSE: 2.5121479338940403e-15\n",
      "\n"
     ]
    }
   ],
   "source": [
    "# con transformation de entradas\n",
    "\n",
    "print(\"create pipeline 2\")\n",
    "pipe2 = Pipeline(steps=[\n",
    "                       ('experimental_trans', ExperimentalTransformer()),    # esto dispara una llamda a __init__\n",
    "                       ('linear_model', LinearRegression())\n",
    "])\n",
    "\n",
    "# una sintaxis alternativa y más corta para hacer lo anterior, sin nombrar cada paso, es:\n",
    "#pipe2 = make_pipeline(ExperimentalTransformer(), LinearRegression())\n",
    "\n",
    "print(\"fit pipeline 2\")\n",
    "pipe2.fit(train_X, train_y)\n",
    "\n",
    "print(\"predict via pipeline 2\")\n",
    "preds2 = pipe2.predict(test_X)\n",
    "print(f\"\\n{preds2}\") \n",
    "print(f\"RMSE: {np.sqrt(mean_squared_error(test_y, preds2))}\\n\")"
   ]
  }
 ],
 "metadata": {
  "kernelspec": {
   "display_name": "Python 3 (ipykernel)",
   "language": "python",
   "name": "python3"
  },
  "language_info": {
   "codemirror_mode": {
    "name": "ipython",
    "version": 3
   },
   "file_extension": ".py",
   "mimetype": "text/x-python",
   "name": "python",
   "nbconvert_exporter": "python",
   "pygments_lexer": "ipython3",
   "version": "3.10.9"
  }
 },
 "nbformat": 4,
 "nbformat_minor": 5
}
