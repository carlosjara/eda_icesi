{
 "cells": [
  {
   "cell_type": "code",
   "execution_count": 24,
   "id": "b3e0448a",
   "metadata": {},
   "outputs": [],
   "source": [
    "import numpy as np\n",
    "import pandas as pd\n",
    "import warnings\n",
    "warnings.filterwarnings('ignore')\n",
    "from sklearn.metrics import mean_squared_error\n",
    "\n",
    "from sklearn.preprocessing import StandardScaler, PowerTransformer\n",
    "from sklearn.compose import TransformedTargetRegressor\n",
    "from sklearn.pipeline import FeatureUnion, Pipeline, make_pipeline\n",
    "from sklearn.base import BaseEstimator, TransformerMixin\n",
    "\n",
    "from sklearn.linear_model import LinearRegression\n",
    "\n",
    "import pandas as pd\n",
    "import seaborn as sns\n",
    "import matplotlib.pyplot as plt"
   ]
  },
  {
   "cell_type": "code",
   "execution_count": 137,
   "id": "0e90c05f",
   "metadata": {},
   "outputs": [
    {
     "name": "stdout",
     "output_type": "stream",
     "text": [
      "   X1  X2   y\n",
      "0   1  16  17\n",
      "1   4  36  40\n",
      "2   1  16  17\n",
      "3   2   9  11\n",
      "4   3  36  39\n",
      "5   2  49  51\n",
      "6   4  25  29\n",
      "7   5  36  41\n"
     ]
    }
   ],
   "source": [
    "import pandas as pd\n",
    "import math\n",
    "\n",
    "# Original DataFrame\n",
    "df = pd.DataFrame(columns=['X1', 'X2'], \n",
    "                  data=[\n",
    "                      [1, 16],\n",
    "                      [4, 36],\n",
    "                      [1, 16],\n",
    "                      [2, 9],\n",
    "                      [3, 36],\n",
    "                      [2, 49],\n",
    "                      [4, 25],\n",
    "                      [5, 36]\n",
    "                  ])\n",
    "\n",
    "def calculate_new_value(row):\n",
    "    x1 = row['X1']\n",
    "    x2 = row['X2']\n",
    "    \n",
    "    # Your formula here\n",
    "    new_value = x1+x2\n",
    "    return new_value\n",
    "\n",
    "# Apply the custom function to create a new column in the DataFrame\n",
    "df['y'] = df.apply(calculate_new_value, axis=1)\n",
    "\n",
    "# Display the updated DataFrame\n",
    "print(df)\n"
   ]
  },
  {
   "cell_type": "code",
   "execution_count": 138,
   "id": "cdb2d7b1",
   "metadata": {},
   "outputs": [],
   "source": [
    "# Separamos en train y test\n",
    "\n",
    "train = df.iloc[:6]\n",
    "test = df.iloc[6:]\n",
    "\n",
    "train_X = train.drop('y', axis=1)\n",
    "train_y = train.y\n",
    "\n",
    "test_X = test.drop('y', axis=1)\n",
    "test_y = test.y"
   ]
  },
  {
   "cell_type": "code",
   "execution_count": 139,
   "id": "5cc3c3e0",
   "metadata": {},
   "outputs": [
    {
     "data": {
      "text/html": [
       "<div>\n",
       "<style scoped>\n",
       "    .dataframe tbody tr th:only-of-type {\n",
       "        vertical-align: middle;\n",
       "    }\n",
       "\n",
       "    .dataframe tbody tr th {\n",
       "        vertical-align: top;\n",
       "    }\n",
       "\n",
       "    .dataframe thead th {\n",
       "        text-align: right;\n",
       "    }\n",
       "</style>\n",
       "<table border=\"1\" class=\"dataframe\">\n",
       "  <thead>\n",
       "    <tr style=\"text-align: right;\">\n",
       "      <th></th>\n",
       "      <th>X1</th>\n",
       "      <th>X2</th>\n",
       "      <th>y</th>\n",
       "    </tr>\n",
       "  </thead>\n",
       "  <tbody>\n",
       "    <tr>\n",
       "      <th>6</th>\n",
       "      <td>4</td>\n",
       "      <td>25</td>\n",
       "      <td>29</td>\n",
       "    </tr>\n",
       "    <tr>\n",
       "      <th>7</th>\n",
       "      <td>5</td>\n",
       "      <td>36</td>\n",
       "      <td>41</td>\n",
       "    </tr>\n",
       "  </tbody>\n",
       "</table>\n",
       "</div>"
      ],
      "text/plain": [
       "   X1  X2   y\n",
       "6   4  25  29\n",
       "7   5  36  41"
      ]
     },
     "execution_count": 139,
     "metadata": {},
     "output_type": "execute_result"
    }
   ],
   "source": [
    "test"
   ]
  },
  {
   "cell_type": "code",
   "execution_count": 140,
   "id": "2bdce8d8",
   "metadata": {},
   "outputs": [
    {
     "name": "stdout",
     "output_type": "stream",
     "text": [
      "\n",
      "[29. 41.]\n"
     ]
    }
   ],
   "source": [
    "m1 = LinearRegression()\n",
    "fit1 = m1.fit(train_X, train_y)\n",
    "preds = fit1.predict(test_X)\n",
    "print(f\"\\n{preds}\")"
   ]
  },
  {
   "cell_type": "code",
   "execution_count": 141,
   "id": "735150f4",
   "metadata": {},
   "outputs": [
    {
     "name": "stdout",
     "output_type": "stream",
     "text": [
      "   X1  X2   y\n",
      "6   4  25  29\n",
      "7   5  36  41\n",
      "\n",
      "[29. 41.]\n",
      "RMSE: 2.5121479338940403e-15\n",
      "\n"
     ]
    }
   ],
   "source": [
    "\n",
    "train_X.X2 = train_X.X2-train_X.X1\n",
    "\n",
    "test_X.X2 = test_X.X2 -test_X.X1\n",
    "\n",
    "print(test)\n",
    "\n",
    "m2 = LinearRegression()\n",
    "\n",
    "fit2 = m2.fit(train_X, train_y)\n",
    "\n",
    "preds = fit2.predict(test_X)\n",
    "\n",
    "print(f\"\\n{preds}\")\n",
    "\n",
    "print(f\"RMSE: {np.sqrt(mean_squared_error(test_y, preds))}\\n\")"
   ]
  },
  {
   "cell_type": "code",
   "execution_count": 142,
   "id": "32cefd4d",
   "metadata": {},
   "outputs": [],
   "source": [
    "train = df.iloc[:6]\n",
    "test = df.iloc[6:]\n",
    "\n",
    "train_X = train.drop('y', axis=1)\n",
    "train_y = train.y\n",
    "\n",
    "test_X = test.drop('y', axis=1)\n",
    "test_y = test.y"
   ]
  },
  {
   "cell_type": "code",
   "execution_count": 143,
   "id": "82f3c027",
   "metadata": {},
   "outputs": [],
   "source": [
    "class ExperimentalTransformer(BaseEstimator, TransformerMixin):\n",
    "  def __init__(self):\n",
    "    print('\\n>>>>>>>init() called.\\n')\n",
    "\n",
    "  def fit(self, X, y = None):\n",
    "    print('\\n>>>>>>>fit() called.\\n')\n",
    "    return self\n",
    "\n",
    "  def transform(self, X, y = None):\n",
    "    print('\\n>>>>>>>transform() called.\\n')\n",
    "    X_ = X.copy() # creamos una copia para evitar cambios en el conjunto de datos original\n",
    "    X_.X2 = X_.X2-X_.X1\n",
    "    return X_"
   ]
  },
  {
   "cell_type": "code",
   "execution_count": 144,
   "id": "f51aa14f",
   "metadata": {},
   "outputs": [
    {
     "name": "stdout",
     "output_type": "stream",
     "text": [
      "create pipeline 1\n",
      "fit pipeline 1\n",
      "predict via pipeline 1\n",
      "\n",
      "[29. 41.]\n",
      "RMSE: 5.617333549722722e-15\n",
      "\n"
     ]
    }
   ],
   "source": [
    "\n",
    "print(\"create pipeline 1\")\n",
    "pipe1 = Pipeline(steps=[\n",
    "                       ('linear_model', LinearRegression())\n",
    "])\n",
    "\n",
    "print(\"fit pipeline 1\")\n",
    "pipe1.fit(train_X, train_y)\n",
    "\n",
    "print(\"predict via pipeline 1\")\n",
    "preds1 = pipe1.predict(test_X)\n",
    "\n",
    "print(f\"\\n{preds1}\") \n",
    "print(f\"RMSE: {np.sqrt(mean_squared_error(test_y, preds1))}\\n\")"
   ]
  },
  {
   "cell_type": "code",
   "execution_count": 145,
   "id": "8fc7cc34",
   "metadata": {},
   "outputs": [
    {
     "name": "stdout",
     "output_type": "stream",
     "text": [
      "create pipeline 2\n",
      "\n",
      ">>>>>>>init() called.\n",
      "\n",
      "fit pipeline 2\n",
      "\n",
      ">>>>>>>fit() called.\n",
      "\n",
      "\n",
      ">>>>>>>transform() called.\n",
      "\n",
      "predict via pipeline 2\n",
      "\n",
      ">>>>>>>transform() called.\n",
      "\n",
      "\n",
      "[29. 41.]\n",
      "RMSE: 2.5121479338940403e-15\n",
      "\n"
     ]
    }
   ],
   "source": [
    "# con transformation de entradas\n",
    "\n",
    "print(\"create pipeline 2\")\n",
    "pipe2 = Pipeline(steps=[\n",
    "                       ('experimental_trans', ExperimentalTransformer()),    # esto dispara una llamda a __init__\n",
    "                       ('linear_model', LinearRegression())\n",
    "])\n",
    "\n",
    "# una sintaxis alternativa y más corta para hacer lo anterior, sin nombrar cada paso, es:\n",
    "#pipe2 = make_pipeline(ExperimentalTransformer(), LinearRegression())\n",
    "\n",
    "print(\"fit pipeline 2\")\n",
    "pipe2.fit(train_X, train_y)\n",
    "\n",
    "print(\"predict via pipeline 2\")\n",
    "preds2 = pipe2.predict(test_X)\n",
    "print(f\"\\n{preds2}\") \n",
    "print(f\"RMSE: {np.sqrt(mean_squared_error(test_y, preds2))}\\n\")"
   ]
  }
 ],
 "metadata": {
  "kernelspec": {
   "display_name": "Python 3 (ipykernel)",
   "language": "python",
   "name": "python3"
  },
  "language_info": {
   "codemirror_mode": {
    "name": "ipython",
    "version": 3
   },
   "file_extension": ".py",
   "mimetype": "text/x-python",
   "name": "python",
   "nbconvert_exporter": "python",
   "pygments_lexer": "ipython3",
   "version": "3.10.9"
  }
 },
 "nbformat": 4,
 "nbformat_minor": 5
}
